{
 "cells": [
  {
   "cell_type": "code",
   "execution_count": 6,
   "metadata": {},
   "outputs": [
    {
     "name": "stdout",
     "output_type": "stream",
     "text": [
      "numero 0\n",
      "numero 1\n",
      "numero 2\n",
      "numero 3\n",
      "numero 4\n"
     ]
    }
   ],
   "source": [
    "def funcaoLeitura():\n",
    "    for i in range(5):\n",
    "        print(\"numero\", i)\n",
    "\n",
    "funcaoLeitura()"
   ]
  },
  {
   "cell_type": "code",
   "execution_count": 5,
   "metadata": {},
   "outputs": [
    {
     "name": "stdout",
     "output_type": "stream",
     "text": [
      "o primeiro número é: 9\n",
      "o segundo número é: 2\n",
      "a soma dos números é: 11\n"
     ]
    }
   ],
   "source": [
    "def addNum(n1,n2):\n",
    "    print(\"o primeiro número é:\", n1)\n",
    "    print(\"o segundo número é:\", n2)\n",
    "    print(\"a soma dos números é:\", n1+n2)\n",
    "addNum(9,2)"
   ]
  },
  {
   "cell_type": "code",
   "execution_count": 7,
   "metadata": {},
   "outputs": [
    {
     "name": "stdout",
     "output_type": "stream",
     "text": [
      "variável da função multiplica: 20\n",
      "10\n"
     ]
    }
   ],
   "source": [
    "varGlobal = 10 \n",
    "def multiplicacao(num1, num2):\n",
    "    varGlobal = (num1 * num2)\n",
    "    print(\"variável da função multiplica:\", varGlobal)\n",
    "\n",
    "multiplicacao(5,4)\n",
    "print(varGlobal)"
   ]
  },
  {
   "cell_type": "code",
   "execution_count": 8,
   "metadata": {},
   "outputs": [
    {
     "name": "stdout",
     "output_type": "stream",
     "text": [
      "variável da função multiplica: 20\n"
     ]
    }
   ],
   "source": [
    "varGlobal = 10 \n",
    "def multiplicacao(num1, num2):\n",
    "    varLocal = (num1 * num2)\n",
    "    print(\"variável da função multiplica:\", varLocal)\n",
    "\n",
    "multiplicacao(5,4)"
   ]
  },
  {
   "cell_type": "code",
   "execution_count": 9,
   "metadata": {},
   "outputs": [
    {
     "ename": "NameError",
     "evalue": "name 'varLocal' is not defined",
     "output_type": "error",
     "traceback": [
      "\u001b[1;31m---------------------------------------------------------------------------\u001b[0m",
      "\u001b[1;31mNameError\u001b[0m                                 Traceback (most recent call last)",
      "Cell \u001b[1;32mIn[9], line 1\u001b[0m\n\u001b[1;32m----> 1\u001b[0m \u001b[38;5;28mprint\u001b[39m(\u001b[43mvarLocal\u001b[49m)\n",
      "\u001b[1;31mNameError\u001b[0m: name 'varLocal' is not defined"
     ]
    }
   ],
   "source": [
    "print(varLocal)"
   ]
  },
  {
   "cell_type": "code",
   "execution_count": 10,
   "metadata": {},
   "outputs": [],
   "source": [
    "def separarTexto (texto):\n",
    "    return texto.split()\n"
   ]
  },
  {
   "cell_type": "code",
   "execution_count": 11,
   "metadata": {},
   "outputs": [
    {
     "data": {
      "text/plain": [
       "['Cibele', 'Maria']"
      ]
     },
     "execution_count": 11,
     "metadata": {},
     "output_type": "execute_result"
    }
   ],
   "source": [
    "separarTexto(\"Cibele Maria\")"
   ]
  },
  {
   "cell_type": "code",
   "execution_count": 12,
   "metadata": {},
   "outputs": [],
   "source": [
    "def variosParametros(*parametros):\n",
    "    for n, item in enumerate(parametros):\n",
    "        print(\"parametro\", n, item)\n",
    "    return;\n",
    "    "
   ]
  },
  {
   "cell_type": "code",
   "execution_count": 13,
   "metadata": {},
   "outputs": [
    {
     "name": "stdout",
     "output_type": "stream",
     "text": [
      "parametro 0 cidele\n",
      "parametro 1 suely\n"
     ]
    }
   ],
   "source": [
    "variosParametros('cidele', 'suely')"
   ]
  },
  {
   "cell_type": "code",
   "execution_count": 6,
   "metadata": {},
   "outputs": [],
   "source": [
    "def soma (n1, n2):\n",
    "    return n1+n2\n",
    "def subtrai (n1, n2):\n",
    "    return n1-n2\n",
    "def multiplica (n1, n2):\n",
    "    return n1*n2\n",
    "def divide (n1, n2):\n",
    "    return n1/n2\n"
   ]
  },
  {
   "cell_type": "code",
   "execution_count": 7,
   "metadata": {},
   "outputs": [
    {
     "name": "stdout",
     "output_type": "stream",
     "text": [
      "+==================+\n",
      "| MENU DE OPERAÇÔES\n",
      "|  1 - somar       \n",
      "|  2 - subtrair    \n",
      "|  3 - multiplicar \n",
      "|  4 - dividir     \n",
      "|  0 - sair        \n",
      "+==================+\n",
      "O resultado da multiplicação é: 30\n"
     ]
    }
   ],
   "source": [
    "while True:\n",
    "    print(\"+==================+\")\n",
    "    print(\"| MENU DE OPERAÇÔES\")\n",
    "    print(\"|  1 - somar       \")\n",
    "    print(\"|  2 - subtrair    \")\n",
    "    print(\"|  3 - multiplicar \")\n",
    "    print(\"|  4 - dividir     \")\n",
    "    print(\"|  0 - sair        \")\n",
    "    print(\"+==================+\")\n",
    "    \n",
    "    op = int (input())\n",
    "    break\n",
    "\n",
    "n1 = int(input(\"Primeiro número:\"))\n",
    "n2 = int(input(\"Segundo número:\"))\n",
    "\n",
    "if op==1:\n",
    "    print(\"O resultado da soma é:\", soma(n1, n2))\n",
    "elif op==2:\n",
    "    print(\"O resultado da subtração é:\", subtrai(n1, n2))\n",
    "elif op==3:\n",
    "    print(\"O resultado da multiplicação é:\", multiplica(n1, n2))\n",
    "elif op==4:\n",
    "    print(\"O resultado da divisão é:\", divide(n1, n2))\n",
    "else:\n",
    "    print(\"Por favor, digite uma das opções.\")\n",
    "\n",
    "\n",
    "    "
   ]
  },
  {
   "cell_type": "code",
   "execution_count": null,
   "metadata": {},
   "outputs": [],
   "source": []
  }
 ],
 "metadata": {
  "kernelspec": {
   "display_name": "Python 3",
   "language": "python",
   "name": "python3"
  },
  "language_info": {
   "codemirror_mode": {
    "name": "ipython",
    "version": 3
   },
   "file_extension": ".py",
   "mimetype": "text/x-python",
   "name": "python",
   "nbconvert_exporter": "python",
   "pygments_lexer": "ipython3",
   "version": "3.11.9"
  }
 },
 "nbformat": 4,
 "nbformat_minor": 2
}
